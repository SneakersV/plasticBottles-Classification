{
 "cells": [
  {
   "cell_type": "code",
   "execution_count": 1,
   "metadata": {},
   "outputs": [],
   "source": [
    "import numpy as np\n",
    "import os\n",
    "import re\n",
    "import matplotlib.pyplot as plt\n",
    "from PIL import Image\n",
    "from sklearn.model_selection import train_test_split\n",
    "from sklearn.metrics import accuracy_score\n",
    "from sklearn.metrics import precision_score"
   ]
  },
  {
   "cell_type": "code",
   "execution_count": 2,
   "metadata": {},
   "outputs": [],
   "source": [
    "# Data processing functions\n",
    "def rename_file(path, label):\n",
    "    i = 0\n",
    "    for filename in os.listdir(path):\n",
    "        try:\n",
    "            extension = os.path.splitext(filename)[1]\n",
    "            src = os.path.join(path, filename)\n",
    "            dst = os.path.join(path, label + str(i) + extension)\n",
    "            os.rename(src, dst)\n",
    "            i+=1\n",
    "        except Exception as e:\n",
    "            print(e)\n",
    "            i+=1 \n",
    "            continue\n",
    "    print(\"Rename completed\")\n",
    "    \n",
    "def resize_img(src,dst):\n",
    "    for filename in os.listdir(src):\n",
    "        try:\n",
    "            img = Image.open(os.path.join(src, filename))\n",
    "            new_img = img.resize((128,128))\n",
    "            \n",
    "            if not os.path.exists(dst):\n",
    "                os.makedirs(dst)\n",
    "                \n",
    "            new_img.save(os.path.join(dst, filename))\n",
    "        except Exception as e:\n",
    "            print(e)\n",
    "            continue\n",
    "    print(\"Resize completed\")\n",
    "\n",
    "def load_image(path):\n",
    "    img = Image.open(path)\n",
    "    img_standardize = np.asarray(img.resize((128,128)))/255\n",
    "    new_img = img_standardize.reshape(1,-1)\n",
    "    plt.imshow(img)\n",
    "    return new_img"
   ]
  },
  {
   "cell_type": "code",
   "execution_count": 3,
   "metadata": {},
   "outputs": [],
   "source": [
    "def get_train_set(path,search):\n",
    "    all_img = []\n",
    "    label = []\n",
    "    \n",
    "    for filename in os.listdir(path):\n",
    "        try:\n",
    "            if re.search(search,filename):\n",
    "                label.append(1)\n",
    "            else: \n",
    "                label.append(0)\n",
    "            \n",
    "            img = Image.open(os.path.join(path, filename))\n",
    "            img_arr = np.array(img)\n",
    "            all_img.append(img_arr)\n",
    "        except Exception as e:\n",
    "            print(e)\n",
    "            continue\n",
    "        \n",
    "    all_img_arr = np.array(all_img).reshape(len(all_img),-1)\n",
    "    all_img_arr = all_img_arr.reshape(all_img_arr.shape[0],-1)\n",
    "    label_arr = np.array(label).reshape(-1,1)\n",
    "    all_img_arr_unique, idx = np.unique(all_img_arr,axis=0, return_index=True)\n",
    "    label_arr_unique = label_arr[idx]\n",
    "        \n",
    "    return all_img_arr_unique/255, label_arr_unique"
   ]
  },
  {
   "cell_type": "code",
   "execution_count": 4,
   "metadata": {},
   "outputs": [],
   "source": [
    "# Logistic regression functions\n",
    "def sigmoid(z):\n",
    "    return 1/(1 + np.exp(-z))\n",
    "\n",
    "def initialize(dim):\n",
    "    w = np.zeros((dim,1))\n",
    "    b = 0\n",
    "    return w, b\n",
    "\n",
    "def cost_function(x,y,w,b):\n",
    "    hx = sigmoid(np.dot(x,w)+b)\n",
    "    return (-1/y.shape[0]) * np.sum(y*np.log(hx) + (1-y)*np.log(1-hx))\n",
    "\n",
    "def predict(x,w,b):\n",
    "    y_pred = sigmoid(np.dot(x,w) + b)\n",
    "    return (y_pred >= 0.5).astype(int)"
   ]
  },
  {
   "cell_type": "code",
   "execution_count": 5,
   "metadata": {},
   "outputs": [],
   "source": [
    "def model(x_train, y_train, x_test, y_test, learning_rate, iter_num):\n",
    "    w, b = initialize(x_train.shape[1])\n",
    "    iter_list = []\n",
    "    costs_list = []\n",
    "    \n",
    "    for i in range(iter_num+1):\n",
    "        m = x_train.shape[0]\n",
    "        hx = sigmoid(np.dot(x_train,w) + b) # (sample,1)\n",
    "        costs_list.append(cost_function(x_train,y_train,w,b))\n",
    "        iter_list.append(i)\n",
    "        if i % 100 == 0:\n",
    "            print(f\"Iteration {i}: Cost = {cost_function(x_train,y_train,w,b)}\")\n",
    "        dw = (1/m)*np.dot(x_train.T,(hx-y_train)) #(s,f)*(s,1) = (f,1)\n",
    "        db = (1/m)*np.sum(hx-y_train)\n",
    "        w = w - learning_rate*dw\n",
    "        b = b - learning_rate*db\n",
    "    \n",
    "    print(f\"\\naccuracy for train set: {accuracy_score(y_train, predict(x_train,w,b))}\")\n",
    "    print(f\"precision for train set: {precision_score(y_train, predict(x_train,w,b))}\")\n",
    "    print(f\"\\naccuracy for test set: {accuracy_score(y_test, predict(x_test,w,b))}\")\n",
    "    print(f\"precision for test set: {precision_score(y_test, predict(x_test,w,b))}\")\n",
    "    plt.plot(iter_list,costs_list)\n",
    "    plt.xlabel(\"Iteration\")\n",
    "    plt.ylabel(\"Cost\")\n",
    "    plt.title(\"Cost function\")\n",
    "    plt.show()\n",
    "        \n",
    "    return w, b"
   ]
  },
  {
   "cell_type": "code",
   "execution_count": 6,
   "metadata": {},
   "outputs": [
    {
     "name": "stdout",
     "output_type": "stream",
     "text": [
      "Iteration 0: Cost = 0.6931471805599453\n",
      "Iteration 100: Cost = 0.5967758209080325\n",
      "Iteration 200: Cost = 0.55689290900438\n",
      "Iteration 300: Cost = 0.5290797028911709\n",
      "Iteration 400: Cost = 0.5067684811917263\n",
      "Iteration 500: Cost = 0.4877624230413359\n",
      "Iteration 600: Cost = 0.4710466302373209\n",
      "Iteration 700: Cost = 0.4560502839838808\n",
      "Iteration 800: Cost = 0.4424103071074645\n",
      "Iteration 900: Cost = 0.42987701400922446\n",
      "Iteration 1000: Cost = 0.418269473115956\n",
      "\n",
      "accuracy for train set: 0.8788927335640139\n",
      "precision for train set: 0.8819444444444444\n",
      "\n",
      "accuracy for test set: 0.6027397260273972\n",
      "precision for test set: 0.6060606060606061\n"
     ]
    },
    {
     "data": {
      "image/png": "[encoded data removed]",
      "text/plain": [
       "<Figure size 640x480 with 1 Axes>"
      ]
     },
     "metadata": {},
     "output_type": "display_data"
    }
   ],
   "source": [
    "# Testing model\n",
    "data_path_1 = \"plastic bottle\"\n",
    "data_path_2 = \"others\"\n",
    "label_1 = \"plasticBottle\"\n",
    "label_2 = \"others\"\n",
    "destination = \"training set\"\n",
    "# rename_file(data_path_1, label_1)\n",
    "# resize_img(data_path_1, destination)\n",
    "# rename_file(data_path_2, label_2)\n",
    "# resize_img(data_path_2, destination)\n",
    "\n",
    "X_data, Y_data = get_train_set(destination,label_1)\n",
    "\n",
    "x_train, x_test, y_train, y_test = train_test_split(X_data, Y_data, test_size=0.2, random_state=11)\n",
    "# learning_rates = [0.01, 0.001, 0.0001, 0.00001]\n",
    "iter_num = 1000\n",
    "w, b = model(x_train, y_train,x_test,y_test, 0.0004, iter_num)"
   ]
  }
 ],
 "metadata": {
  "kernelspec": {
   "display_name": "Python 3",
   "language": "python",
   "name": "python3"
  },
  "language_info": {
   "codemirror_mode": {
    "name": "ipython",
    "version": 3
   },
   "file_extension": ".py",
   "mimetype": "text/x-python",
   "name": "python",
   "nbconvert_exporter": "python",
   "pygments_lexer": "ipython3",
   "version": "3.9.13"
  }
 },
 "nbformat": 4,
 "nbformat_minor": 2
}
